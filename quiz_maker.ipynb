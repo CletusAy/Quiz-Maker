{
 "cells": [
  {
   "cell_type": "markdown",
   "id": "0808bf9c-cd30-4a4d-92eb-a8ee7a0ab432",
   "metadata": {},
   "source": [
    "**QUIZ MAKER PROGRAM**\n",
    "\n",
    "A python quiz maker program, which allows teachers (admins) to set multiple choice questions and allows students to take the quiz and display their scores. "
   ]
  },
  {
   "cell_type": "code",
   "execution_count": 1,
   "id": "77839f21-2426-4589-95b8-0ae00c6ad6c3",
   "metadata": {
    "scrolled": true
   },
   "outputs": [],
   "source": [
    "#Setting questions and answers dictionaries\n",
    "\n",
    "quiz_questions = {\n",
    "    \"What is the correct file extension for Python files?\": {\n",
    "        \"options\": [\"A. .pt\", \"B. .py\", \"C. .python\", \"D. .pyt\"],\n",
    "        \"answer\": \"B\"\n",
    "    },\n",
    "    \"Which keyword is used to define a function in Python?\": {\n",
    "        \"options\": [\"A. define\", \"B. func\", \"C. def\", \"D. function\"],\n",
    "        \"answer\": \"C\"\n",
    "    },\n",
    "    \"What data type is the result of: 3 / 2 in Python 3?\": {\n",
    "        \"options\": [\"A. int\", \"B. float\", \"C. double\", \"D. decimal\"],\n",
    "        \"answer\": \"B\"\n",
    "    },\n",
    "    \"Which of the following is a Python tuple?\": {\n",
    "        \"options\": [\"A. [1, 2, 3]\", \"B. {1, 2, 3}\", \"C. (1, 2, 3)\", \"D. <1, 2, 3>\"],\n",
    "        \"answer\": \"C\"\n",
    "    },\n",
    "    \"How do you insert comments in Python code?\": {\n",
    "        \"options\": [\"A. // This is a comment\", \"B. <!-- This is a comment -->\", \"C. # This is a comment\", \"D. /* This is a comment */\"],\n",
    "        \"answer\": \"C\"\n",
    "    },\n",
    "    \"Which year was python created?\": {\n",
    "        \"options\": [\"A. 2021\", \"B. 1991\", \"C. 1998\", \"D. 1989\"],\n",
    "        \"answer\": \"B\"\n",
    "    },\n",
    "    \"What does the 'len()' function do?\": {\n",
    "        \"options\": [\"A. Returns the last element\", \"B. Returns the length\", \"C. Returns the type\", \"D. Returns the maximum value\"],\n",
    "        \"answer\": \"B\"\n",
    "    },\n",
    "    \"Which of these is a mutable data type in Python?\": {\n",
    "        \"options\": [\"A. tuple\", \"B. string\", \"C. list\", \"D. int\"],\n",
    "        \"answer\": \"C\"\n",
    "    },\n",
    "    \"How do you start a for loop in Python?\": {\n",
    "        \"options\": [\"A. for x in range(5)\", \"B. foreach x in range(5)\", \"C. loop x in range(5)\", \"D. for (x in range(5))\"],\n",
    "        \"answer\": \"A\"\n",
    "    },\n",
    "    \"What is the output of: bool(0)?\": {\n",
    "        \"options\": [\"A. True\", \"B. False\", \"C. 0\", \"D. Error\"],\n",
    "        \"answer\": \"B\"\n",
    "    }\n",
    "}"
   ]
  },
  {
   "cell_type": "code",
   "execution_count": 2,
   "id": "c1469ea4-fa68-404c-bd43-aec4b727cb8a",
   "metadata": {},
   "outputs": [],
   "source": [
    "#Function to allow admins add questions\n",
    "def add_custom_questions():\n",
    "    print(\"\\n📝 Add Your Own Questions (type 'done' to stop)\\n\")\n",
    "    while True:\n",
    "        question = input(\"Enter your question (or type 'done' to finish): \")\n",
    "        if question.lower() == \"done\":\n",
    "            break\n",
    "        options = []\n",
    "        for i in [\"A\", \"B\", \"C\", \"D\"]:\n",
    "            option = input(f\"Enter option {i}: \")\n",
    "            options.append(f\"{i}. {option}\")\n",
    "        answer = input(\"Enter the correct answer (A, B, C, or D): \").strip().upper()\n",
    "        if answer in [\"A\", \"B\", \"C\", \"D\"]:\n",
    "            quiz_questions[question] = {\"options\": options, \"answer\": answer}\n",
    "            print(\"✅ Question added!\\n\")\n",
    "        else:\n",
    "            print(\"❌ Invalid answer. Please use A, B, C, or D.\\n\")"
   ]
  },
  {
   "cell_type": "code",
   "execution_count": 3,
   "id": "51741422-0883-4dc2-9aad-b1930f634d21",
   "metadata": {},
   "outputs": [],
   "source": [
    "#Creating quiz function\n",
    "def run_quiz():\n",
    "    print(\"\\n🧠 Welcome to the Quiz! Type A, B, C, or D to answer.\")\n",
    "    score = 0\n",
    "    total = len(quiz_questions)\n",
    "\n",
    "    for question, details in quiz_questions.items():\n",
    "        print(\"\\n\" + question)\n",
    "        for option in details[\"options\"]:\n",
    "            print(option)\n",
    "        answer = input(\"Your answer: \").strip().upper()\n",
    "\n",
    "        if answer == details[\"answer\"]:\n",
    "            print(\"✅ Correct!\")\n",
    "            score += 1\n",
    "        else:\n",
    "            print(f\"❌ Incorrect. The correct answer is {details['answer']}.\")\n",
    "\n",
    "    print(f\"\\n🏁 Quiz Complete! Your final score is {score}/{total}\")\n",
    "    return score, total\n"
   ]
  },
  {
   "cell_type": "code",
   "execution_count": 4,
   "id": "5ee765a8-743a-42d6-becc-e1ec095f71a4",
   "metadata": {},
   "outputs": [],
   "source": [
    "#Saving quiz results to a file\n",
    "def save_score(name, score, total):\n",
    "    with open(\"quiz_score.txt\", \"a\") as file:\n",
    "        file.write(f\"{name}: {score}/{total}\\n\")\n",
    "    print(\"📂 Your score has been saved!\\n\")"
   ]
  },
  {
   "cell_type": "code",
   "execution_count": 5,
   "id": "f8136d95-fcf8-40dd-95b0-63ce6474c5c4",
   "metadata": {},
   "outputs": [],
   "source": [
    "# Creating function for main program\n",
    "def main():\n",
    "    print(\"🎉 Welcome to the Quiz Maker & Grader!\")\n",
    "    name = input(\"Enter your name: \")\n",
    "    role = input(\"Enter your role (admin/student): \").lower()\n",
    "\n",
    "    if role == \"admin\":\n",
    "        print(f\"\\n🔐 Admin Access Granted. Hello, {name}!\")\n",
    "        add_q = input(\"Would you like to add your own questions? (yes/no): \").lower()\n",
    "        if add_q == \"yes\":\n",
    "            add_custom_questions()\n",
    "            print(\"\\n✅ Questions added successfully. Exiting program...\")\n",
    "            return  # Exit the program after adding questions\n",
    "        else:\n",
    "            print(\"\\n✅ No questions added. Exiting program...\")\n",
    "            return  # Exit if admin chose not to add questions\n",
    "\n",
    "    elif role == \"student\":\n",
    "        print(f\"\\n👋 Hello, {name}! Let's begin your quiz.\")\n",
    "        score, total = run_quiz()\n",
    "        save_score(name, score, total)\n",
    "\n",
    "    else:\n",
    "        print(\"❌ Invalid role. Exiting program.\")\n",
    "        return"
   ]
  },
  {
   "cell_type": "code",
   "execution_count": 6,
   "id": "66fdf663-bbd9-43e9-b6f5-8093acb6ca7e",
   "metadata": {},
   "outputs": [
    {
     "name": "stdout",
     "output_type": "stream",
     "text": [
      "🎉 Welcome to the Quiz Maker & Grader!\n"
     ]
    },
    {
     "name": "stdin",
     "output_type": "stream",
     "text": [
      "Enter your name:  Cletus\n",
      "Enter your role (admin/student):  student\n"
     ]
    },
    {
     "name": "stdout",
     "output_type": "stream",
     "text": [
      "\n",
      "👋 Hello, Cletus! Let's begin your quiz.\n",
      "\n",
      "🧠 Welcome to the Quiz! Type A, B, C, or D to answer.\n",
      "\n",
      "What is the correct file extension for Python files?\n",
      "A. .pt\n",
      "B. .py\n",
      "C. .python\n",
      "D. .pyt\n"
     ]
    },
    {
     "name": "stdin",
     "output_type": "stream",
     "text": [
      "Your answer:  b\n"
     ]
    },
    {
     "name": "stdout",
     "output_type": "stream",
     "text": [
      "✅ Correct!\n",
      "\n",
      "Which keyword is used to define a function in Python?\n",
      "A. define\n",
      "B. func\n",
      "C. def\n",
      "D. function\n"
     ]
    },
    {
     "name": "stdin",
     "output_type": "stream",
     "text": [
      "Your answer:  c\n"
     ]
    },
    {
     "name": "stdout",
     "output_type": "stream",
     "text": [
      "✅ Correct!\n",
      "\n",
      "What data type is the result of: 3 / 2 in Python 3?\n",
      "A. int\n",
      "B. float\n",
      "C. double\n",
      "D. decimal\n"
     ]
    },
    {
     "name": "stdin",
     "output_type": "stream",
     "text": [
      "Your answer:  b\n"
     ]
    },
    {
     "name": "stdout",
     "output_type": "stream",
     "text": [
      "✅ Correct!\n",
      "\n",
      "Which of the following is a Python tuple?\n",
      "A. [1, 2, 3]\n",
      "B. {1, 2, 3}\n",
      "C. (1, 2, 3)\n",
      "D. <1, 2, 3>\n"
     ]
    },
    {
     "name": "stdin",
     "output_type": "stream",
     "text": [
      "Your answer:  c\n"
     ]
    },
    {
     "name": "stdout",
     "output_type": "stream",
     "text": [
      "✅ Correct!\n",
      "\n",
      "How do you insert comments in Python code?\n",
      "A. // This is a comment\n",
      "B. <!-- This is a comment -->\n",
      "C. # This is a comment\n",
      "D. /* This is a comment */\n"
     ]
    },
    {
     "name": "stdin",
     "output_type": "stream",
     "text": [
      "Your answer:  c\n"
     ]
    },
    {
     "name": "stdout",
     "output_type": "stream",
     "text": [
      "✅ Correct!\n",
      "\n",
      "Which year was python created?\n",
      "A. 2021\n",
      "B. 1991\n",
      "C. 1998\n",
      "D. 1989\n"
     ]
    },
    {
     "name": "stdin",
     "output_type": "stream",
     "text": [
      "Your answer:  b\n"
     ]
    },
    {
     "name": "stdout",
     "output_type": "stream",
     "text": [
      "✅ Correct!\n",
      "\n",
      "What does the 'len()' function do?\n",
      "A. Returns the last element\n",
      "B. Returns the length\n",
      "C. Returns the type\n",
      "D. Returns the maximum value\n"
     ]
    },
    {
     "name": "stdin",
     "output_type": "stream",
     "text": [
      "Your answer:  b\n"
     ]
    },
    {
     "name": "stdout",
     "output_type": "stream",
     "text": [
      "✅ Correct!\n",
      "\n",
      "Which of these is a mutable data type in Python?\n",
      "A. tuple\n",
      "B. string\n",
      "C. list\n",
      "D. int\n"
     ]
    },
    {
     "name": "stdin",
     "output_type": "stream",
     "text": [
      "Your answer:  c\n"
     ]
    },
    {
     "name": "stdout",
     "output_type": "stream",
     "text": [
      "✅ Correct!\n",
      "\n",
      "How do you start a for loop in Python?\n",
      "A. for x in range(5)\n",
      "B. foreach x in range(5)\n",
      "C. loop x in range(5)\n",
      "D. for (x in range(5))\n"
     ]
    },
    {
     "name": "stdin",
     "output_type": "stream",
     "text": [
      "Your answer:  a\n"
     ]
    },
    {
     "name": "stdout",
     "output_type": "stream",
     "text": [
      "✅ Correct!\n",
      "\n",
      "What is the output of: bool(0)?\n",
      "A. True\n",
      "B. False\n",
      "C. 0\n",
      "D. Error\n"
     ]
    },
    {
     "name": "stdin",
     "output_type": "stream",
     "text": [
      "Your answer:  b\n"
     ]
    },
    {
     "name": "stdout",
     "output_type": "stream",
     "text": [
      "✅ Correct!\n",
      "\n",
      "🏁 Quiz Complete! Your final score is 10/10\n",
      "📂 Your score has been saved!\n",
      "\n"
     ]
    }
   ],
   "source": [
    "#Running program\n",
    "main()"
   ]
  },
  {
   "cell_type": "code",
   "execution_count": null,
   "id": "7b690268-a01a-4f46-8955-b988b14bb172",
   "metadata": {},
   "outputs": [],
   "source": []
  }
 ],
 "metadata": {
  "kernelspec": {
   "display_name": "Python 3 (ipykernel)",
   "language": "python",
   "name": "python3"
  },
  "language_info": {
   "codemirror_mode": {
    "name": "ipython",
    "version": 3
   },
   "file_extension": ".py",
   "mimetype": "text/x-python",
   "name": "python",
   "nbconvert_exporter": "python",
   "pygments_lexer": "ipython3",
   "version": "3.13.3"
  }
 },
 "nbformat": 4,
 "nbformat_minor": 5
}
